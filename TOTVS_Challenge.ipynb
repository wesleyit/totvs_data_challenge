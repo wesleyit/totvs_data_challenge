{
 "cells": [
  {
   "cell_type": "markdown",
   "metadata": {},
   "source": [
    "# Data Challenge\n",
    "### by TOTVS LABS\n",
    "\n",
    "#### Wesley Rodrigues da Silva"
   ]
  },
  {
   "cell_type": "markdown",
   "metadata": {},
   "source": [
    "The challenge's objective is to write a code to:\n",
    "\n",
    "1. Get the records from a datafile containing transactions from a restaurant.\n",
    "2. Study the data to find patterns on fields that can help to predict how much a customer will spend.\n",
    "3. Calculate a sales forecast for the next week.\n",
    "\n",
    "\n",
    "**The objectives must be achieved in less than 5 work hours.**\n",
    "\n",
    "\n",
    "TOTVS wants some skills from the developer trying to solve the challenge:\n",
    "\n",
    "1. Ability to read/parse a dataset from a file.\n",
    "2. Understanding of common business data.\n",
    "3. Basic knowledge of artificial intelligence.\n",
    "4. Ability to build a model to identify correlations and patterns between fields.\n",
    "5. Code design\n",
    "6. Ability to write clear documentation\n",
    "7. BONUS: Ability to build a forecast model."
   ]
  },
  {
   "cell_type": "markdown",
   "metadata": {},
   "source": [
    "## 1. Importing the Data\n",
    "\n",
    "The provided link (https://github.com/TOTVS/MDMStatic/blob/master/code-challenge/TOTVS%20Labs%20-%20AI%20Challenge%20-%20Dataset.zip?raw=true) results in a zip file containing a file named `sample.txt`.\n",
    "\n",
    "\n",
    "The first step is to check the file content. I am using Linux, so I typed on my terminal:\n",
    "\n",
    "\n",
    "```\n",
    "[wesley@linuxdragon: ~/Downloads/TOTVS]$ file sample.txt \n",
    "sample.txt: ASCII text\n",
    "[wesley@linuxdragon: ~/Downloads/TOTVS]$ wc -l sample.txt \n",
    "120015 sample.txt\n",
    "[wesley@linuxdragon: ~/Downloads/TOTVS]$ head -n 15 sample.txt \n",
    "[\n",
    "{\n",
    "  \"complemento\": {\n",
    "    \"valorTotal\": 24.9\n",
    "  },\n",
    "  \"dets\": [\n",
    "    {\n",
    "      \"nItem\": \"1\",\n",
    "      \"prod\": {\n",
    "        \"indTot\": \"1\",\n",
    "        \"qCom\": 1.0,\n",
    "        \"uCom\": \"UN\",\n",
    "        \"vProd\": 3.5,\n",
    "        \"vUnCom\": 3.5,\n",
    "        \"xProd\": \"AGUA\"\n",
    "[wesley@linuxdragon: ~/Downloads/TOTVS]$ tail -n 15 sample.txt \n",
    "      \"vcofins\": 0.0,\n",
    "      \"vicms\": 0.0,\n",
    "      \"vicmsDeson\": 0.0,\n",
    "      \"vii\": 0.0,\n",
    "      \"vipi\": 0.0,\n",
    "      \"vnf\": 32.8,\n",
    "      \"vpis\": 0.0,\n",
    "      \"vst\": 0.0\n",
    "    }\n",
    "  },\n",
    "  \"versaoDocumento\": {\n",
    "    \"$numberLong\": \"1\"\n",
    "  }\n",
    "}\n",
    "]\n",
    "```\n",
    "\n",
    "\n",
    "The first and last chars ([]) are common to lists/arrays.\n",
    "The data disposed like dictionaries are common to JSON files.\n",
    "This file seems to be an array of JSON records, which is a valid JSON dump, very common when exporting data from modern systems and APIs.\n",
    "\n",
    "There is a Python lib named `json`, which can be used to read and parse the JSON file:"
   ]
  },
  {
   "cell_type": "code",
   "execution_count": 1,
   "metadata": {},
   "outputs": [],
   "source": [
    "import json"
   ]
  },
  {
   "cell_type": "markdown",
   "metadata": {},
   "source": [
    "Now we can read the JSON file to a Python variable and check if it is properly loaded with a simple Unit Test:"
   ]
  },
  {
   "cell_type": "code",
   "execution_count": 2,
   "metadata": {
    "scrolled": true
   },
   "outputs": [
    {
     "data": {
      "text/plain": [
       "{'complemento': {'valorTotal': 24.9},\n",
       " 'dets': [{'nItem': '1',\n",
       "   'prod': {'indTot': '1',\n",
       "    'qCom': 1.0,\n",
       "    'uCom': 'UN',\n",
       "    'vProd': 3.5,\n",
       "    'vUnCom': 3.5,\n",
       "    'xProd': 'AGUA'}},\n",
       "  {'nItem': '2',\n",
       "   'prod': {'indTot': '1',\n",
       "    'qCom': 0.312,\n",
       "    'uCom': 'KG',\n",
       "    'vProd': 21.4,\n",
       "    'vUnCom': 68.6,\n",
       "    'xProd': 'BUFFET'}}],\n",
       " 'emit': {'cnpj': '01.234.567/0001-89',\n",
       "  'enderEmit': {'fone': '1-650-933-4902',\n",
       "   'uf': 'CA',\n",
       "   'xBairro': '',\n",
       "   'xLgr': '650 Castro St. unit 210',\n",
       "   'xMun': 'Mountain View',\n",
       "   'xPais': 'United States'},\n",
       "  'xFant': 'TOTVS Labs'},\n",
       " 'ide': {'dhEmi': {'$date': '2016-01-05T12:01:54.000Z'}, 'natOp': 'VENDA'},\n",
       " 'infAdic': {'infCpl': 'Mesa 2'},\n",
       " 'total': {'icmsTot': {'vDesc': 0.0,\n",
       "   'vFrete': 0.0,\n",
       "   'vOutro': 0.0,\n",
       "   'vProd': 24.9,\n",
       "   'vSeg': 0.0,\n",
       "   'vTotTrib': 2.53,\n",
       "   'vbc': 0.0,\n",
       "   'vbcst': 0.0,\n",
       "   'vcofins': 0.0,\n",
       "   'vicms': 0.0,\n",
       "   'vicmsDeson': 0.0,\n",
       "   'vii': 0.0,\n",
       "   'vipi': 0.0,\n",
       "   'vnf': 24.9,\n",
       "   'vpis': 0.0,\n",
       "   'vst': 0.0}},\n",
       " 'versaoDocumento': 1.0}"
      ]
     },
     "execution_count": 2,
     "metadata": {},
     "output_type": "execute_result"
    }
   ],
   "source": [
    "data = json.load(open(\"sample.txt\"))\n",
    "assert type(data[0]) == dict, \"The type of data[0] must be a dict.\"\n",
    "data[0]"
   ]
  },
  {
   "cell_type": "markdown",
   "metadata": {},
   "source": [
    "The file seems to be properly loaded.\n",
    "\n",
    "It is a JSON file with many levels of information, which makes harder to get the fields.\n",
    "\n",
    "There are important fields, like dates, names, prices and products.\n",
    "\n",
    "Let's extract the most relevant fields to variables and create a new field based on the `$date` field:"
   ]
  },
  {
   "cell_type": "code",
   "execution_count": 3,
   "metadata": {},
   "outputs": [],
   "source": [
    "import pandas as pd\n",
    "from datetime import datetime\n",
    "\n",
    "selected_fields = []\n",
    "for record in data:\n",
    "    new_record = {}\n",
    "    new_record['Total_Paid'] = record['complemento']['valorTotal']\n",
    "    record_date = pd.datetime.strptime(record['ide']['dhEmi']['$date'], '%Y-%m-%dT%H:%M:%S.000Z')\n",
    "    new_record['Date'] = record_date\n",
    "    selected_fields.append(new_record)"
   ]
  },
  {
   "cell_type": "markdown",
   "metadata": {},
   "source": [
    "Now we have a variable named 'selected_fields' containing ONE TRANSACTION PER RECORD.\n",
    "Let's check if the fields are properly created with more Unit Tests and look up the first 5 records:"
   ]
  },
  {
   "cell_type": "code",
   "execution_count": 4,
   "metadata": {
    "scrolled": true
   },
   "outputs": [
    {
     "data": {
      "text/plain": [
       "[{'Date': datetime.datetime(2016, 1, 5, 12, 1, 54), 'Total_Paid': 24.9},\n",
       " {'Date': datetime.datetime(2016, 1, 5, 12, 3, 52), 'Total_Paid': 92.53},\n",
       " {'Date': datetime.datetime(2016, 1, 5, 12, 16, 40), 'Total_Paid': 57.86},\n",
       " {'Date': datetime.datetime(2016, 1, 5, 12, 17, 50), 'Total_Paid': 34.97},\n",
       " {'Date': datetime.datetime(2016, 1, 5, 12, 18, 35), 'Total_Paid': 46.23}]"
      ]
     },
     "execution_count": 4,
     "metadata": {},
     "output_type": "execute_result"
    }
   ],
   "source": [
    "for key in ['Total_Paid', 'Date']:\n",
    "    assert key in selected_fields[0].keys(), \"The key must be properly imported.\"\n",
    "selected_fields[:5]"
   ]
  },
  {
   "cell_type": "markdown",
   "metadata": {},
   "source": [
    "It is hard to work with dictoraries, so we are going to import the data using a Pandas Dataframe.\n",
    "\n",
    "Pandas Dataframe is a more powerful tool to deal with structured data.\n",
    "\n",
    "To create the Dataframe we are using the dictionary with our selected and created fields.\n",
    "\n",
    "Then, we run a Unit Test to ensure the data is imported properly.\n",
    "\n",
    "Finally, we look up the first lines:"
   ]
  },
  {
   "cell_type": "code",
   "execution_count": 5,
   "metadata": {},
   "outputs": [
    {
     "data": {
      "text/html": [
       "<div>\n",
       "<style scoped>\n",
       "    .dataframe tbody tr th:only-of-type {\n",
       "        vertical-align: middle;\n",
       "    }\n",
       "\n",
       "    .dataframe tbody tr th {\n",
       "        vertical-align: top;\n",
       "    }\n",
       "\n",
       "    .dataframe thead th {\n",
       "        text-align: right;\n",
       "    }\n",
       "</style>\n",
       "<table border=\"1\" class=\"dataframe\">\n",
       "  <thead>\n",
       "    <tr style=\"text-align: right;\">\n",
       "      <th></th>\n",
       "      <th>Date</th>\n",
       "      <th>Total_Paid</th>\n",
       "    </tr>\n",
       "  </thead>\n",
       "  <tbody>\n",
       "    <tr>\n",
       "      <th>0</th>\n",
       "      <td>2016-01-05 12:01:54</td>\n",
       "      <td>24.90</td>\n",
       "    </tr>\n",
       "    <tr>\n",
       "      <th>1</th>\n",
       "      <td>2016-01-05 12:03:52</td>\n",
       "      <td>92.53</td>\n",
       "    </tr>\n",
       "    <tr>\n",
       "      <th>2</th>\n",
       "      <td>2016-01-05 12:16:40</td>\n",
       "      <td>57.86</td>\n",
       "    </tr>\n",
       "    <tr>\n",
       "      <th>3</th>\n",
       "      <td>2016-01-05 12:17:50</td>\n",
       "      <td>34.97</td>\n",
       "    </tr>\n",
       "    <tr>\n",
       "      <th>4</th>\n",
       "      <td>2016-01-05 12:18:35</td>\n",
       "      <td>46.23</td>\n",
       "    </tr>\n",
       "  </tbody>\n",
       "</table>\n",
       "</div>"
      ],
      "text/plain": [
       "                 Date  Total_Paid\n",
       "0 2016-01-05 12:01:54       24.90\n",
       "1 2016-01-05 12:03:52       92.53\n",
       "2 2016-01-05 12:16:40       57.86\n",
       "3 2016-01-05 12:17:50       34.97\n",
       "4 2016-01-05 12:18:35       46.23"
      ]
     },
     "execution_count": 5,
     "metadata": {},
     "output_type": "execute_result"
    }
   ],
   "source": [
    "df = pd.DataFrame.from_records(selected_fields)\n",
    "assert df['Total_Paid'][0] == 24.9, \"The first record must be $24.9.\"\n",
    "df.head()"
   ]
  },
  {
   "cell_type": "markdown",
   "metadata": {},
   "source": [
    "\n",
    "**<< OBJECTIVE 1 DONE: Get the records from a datafile containing transactions from a restaurant. >>**\n",
    "\n",
    "\n",
    "## 2. Getting Knowledge from Data\n",
    "\n",
    "\n",
    "Our target variable is **Total_Paid**, which means how much money the client spent on the restaurant.\n",
    "\n",
    "Now we are going to use some Python tools to find out patterns and behaviors. \n"
   ]
  },
  {
   "cell_type": "code",
   "execution_count": 6,
   "metadata": {},
   "outputs": [],
   "source": [
    "import matplotlib.pyplot as plt\n",
    "%matplotlib inline"
   ]
  },
  {
   "cell_type": "markdown",
   "metadata": {},
   "source": [
    "### Total_Paid Behavior\n",
    "\n",
    "Here we can look for sazonalities and strange behaviors, like outliers."
   ]
  },
  {
   "cell_type": "code",
   "execution_count": 7,
   "metadata": {},
   "outputs": [
    {
     "data": {
      "text/plain": [
       "<matplotlib.axes._subplots.AxesSubplot at 0x7f60dbaf29b0>"
      ]
     },
     "execution_count": 7,
     "metadata": {},
     "output_type": "execute_result"
    },
    {
     "data": {
      "image/png": "[encoded data removed]",
      "text/plain": [
       "<matplotlib.figure.Figure at 0x7f60dbaf2048>"
      ]
     },
     "metadata": {},
     "output_type": "display_data"
    }
   ],
   "source": [
    "plt.figure(figsize=[16,4])\n",
    "df['Total_Paid'].plot()"
   ]
  },
  {
   "cell_type": "markdown",
   "metadata": {},
   "source": [
    "### Sales per weekday\n",
    "\n",
    "Here is possible to understand the values sold during the week."
   ]
  },
  {
   "cell_type": "code",
   "execution_count": 8,
   "metadata": {},
   "outputs": [
    {
     "data": {
      "text/plain": [
       "<matplotlib.axes._subplots.AxesSubplot at 0x7f60d99d9b70>"
      ]
     },
     "execution_count": 8,
     "metadata": {},
     "output_type": "execute_result"
    },
    {
     "data": {
      "image/png": "[encoded data removed]",
      "text/plain": [
       "<matplotlib.figure.Figure at 0x7f60d9aa4588>"
      ]
     },
     "metadata": {},
     "output_type": "display_data"
    }
   ],
   "source": [
    "df_copy = df.copy()\n",
    "df_copy['Weekday'] = df_copy['Date'].dt.weekday_name\n",
    "df_copy.groupby('Weekday').sum().plot(kind='bar')"
   ]
  },
  {
   "cell_type": "markdown",
   "metadata": {},
   "source": [
    "### Autocorrelation\n",
    "\n",
    "Timeseries can use Autocorrelation to explain its behavior and try to predict data.\n",
    "This graph shows the Autocorrelation for sales:"
   ]
  },
  {
   "cell_type": "code",
   "execution_count": 9,
   "metadata": {},
   "outputs": [
    {
     "data": {
      "text/plain": [
       "<matplotlib.axes._subplots.AxesSubplot at 0x7f60d9a0c1d0>"
      ]
     },
     "execution_count": 9,
     "metadata": {},
     "output_type": "execute_result"
    },
    {
     "data": {
      "image/png": "[encoded data removed]",
      "text/plain": [
       "<matplotlib.figure.Figure at 0x7f60d9a74ef0>"
      ]
     },
     "metadata": {},
     "output_type": "display_data"
    }
   ],
   "source": [
    "from pandas.plotting import autocorrelation_plot\n",
    "autocorrelation_plot(df['Total_Paid'])"
   ]
  },
  {
   "cell_type": "markdown",
   "metadata": {},
   "source": [
    "Now we know a little more about the customer behavior.\n",
    "\n",
    "\n",
    "**<< OBJECTIVE 2 DONE: Study the data to find patterns on fields that can help to predict how much a customer will spend. >>**\n",
    "\n",
    "\n",
    "## 3. Creating the Prediction Model\n",
    "\n",
    "There are lots of good techniques to predict time series. We could use **Tensorflow and/or Keras** to create a **LSTM network** to predict the future values. Another good option would be to use **Statsmodel and ARIMA** to generate good forecasts. I've decided to use a new library created by the Facebook guys named **Prophet**. It is very easy to use, powerful and looks like sklearn, which I know how to use very well."
   ]
  },
  {
   "cell_type": "code",
   "execution_count": 10,
   "metadata": {},
   "outputs": [],
   "source": [
    "from fbprophet import Prophet"
   ]
  },
  {
   "cell_type": "code",
   "execution_count": 11,
   "metadata": {},
   "outputs": [
    {
     "name": "stderr",
     "output_type": "stream",
     "text": [
      "INFO:fbprophet.forecaster:Disabling daily seasonality. Run prophet with daily_seasonality=True to override this.\n",
      "INFO:fbprophet.forecaster:n_changepoints greater than number of observations.Using 14.0.\n",
      "/home/wesley/.pyenv/versions/3.6.4/lib/python3.6/site-packages/pystan/misc.py:399: FutureWarning: Conversion of the second argument of issubdtype from `float` to `np.floating` is deprecated. In future, it will be treated as `np.float64 == np.dtype(float).type`.\n",
      "  elif np.issubdtype(np.asarray(v).dtype, float):\n"
     ]
    },
    {
     "data": {
      "text/plain": [
       "<fbprophet.forecaster.Prophet at 0x7f60cc1e72b0>"
      ]
     },
     "execution_count": 11,
     "metadata": {},
     "output_type": "execute_result"
    }
   ],
   "source": [
    "my_model = Prophet(yearly_seasonality=False)\n",
    "df = df.set_index('Date').groupby(pd.Grouper(freq='D')).sum()\n",
    "df_prophet = df.reset_index().rename(columns={'Date': 'ds', 'Total_Paid': 'y'})\n",
    "my_model.fit(df_prophet)"
   ]
  },
  {
   "cell_type": "markdown",
   "metadata": {},
   "source": [
    "Our model is trained. Let's test it and generate some forecasts.\n",
    "\n",
    "Prophet has a nice feature to generate dataframes with future data."
   ]
  },
  {
   "cell_type": "code",
   "execution_count": 12,
   "metadata": {},
   "outputs": [
    {
     "data": {
      "text/html": [
       "<div>\n",
       "<style scoped>\n",
       "    .dataframe tbody tr th:only-of-type {\n",
       "        vertical-align: middle;\n",
       "    }\n",
       "\n",
       "    .dataframe tbody tr th {\n",
       "        vertical-align: top;\n",
       "    }\n",
       "\n",
       "    .dataframe thead th {\n",
       "        text-align: right;\n",
       "    }\n",
       "</style>\n",
       "<table border=\"1\" class=\"dataframe\">\n",
       "  <thead>\n",
       "    <tr style=\"text-align: right;\">\n",
       "      <th></th>\n",
       "      <th>ds</th>\n",
       "    </tr>\n",
       "  </thead>\n",
       "  <tbody>\n",
       "    <tr>\n",
       "      <th>19</th>\n",
       "      <td>2016-01-24</td>\n",
       "    </tr>\n",
       "    <tr>\n",
       "      <th>20</th>\n",
       "      <td>2016-01-25</td>\n",
       "    </tr>\n",
       "    <tr>\n",
       "      <th>21</th>\n",
       "      <td>2016-01-26</td>\n",
       "    </tr>\n",
       "    <tr>\n",
       "      <th>22</th>\n",
       "      <td>2016-01-27</td>\n",
       "    </tr>\n",
       "    <tr>\n",
       "      <th>23</th>\n",
       "      <td>2016-01-28</td>\n",
       "    </tr>\n",
       "    <tr>\n",
       "      <th>24</th>\n",
       "      <td>2016-01-29</td>\n",
       "    </tr>\n",
       "    <tr>\n",
       "      <th>25</th>\n",
       "      <td>2016-01-30</td>\n",
       "    </tr>\n",
       "  </tbody>\n",
       "</table>\n",
       "</div>"
      ],
      "text/plain": [
       "           ds\n",
       "19 2016-01-24\n",
       "20 2016-01-25\n",
       "21 2016-01-26\n",
       "22 2016-01-27\n",
       "23 2016-01-28\n",
       "24 2016-01-29\n",
       "25 2016-01-30"
      ]
     },
     "execution_count": 12,
     "metadata": {},
     "output_type": "execute_result"
    }
   ],
   "source": [
    "new_dataset = my_model.make_future_dataframe(periods=7, freq='D', include_history=True)\n",
    "new_week = new_dataset.tail(7)\n",
    "new_week"
   ]
  },
  {
   "cell_type": "code",
   "execution_count": 13,
   "metadata": {},
   "outputs": [],
   "source": [
    "predictions = my_model.predict(new_dataset)['yhat']"
   ]
  },
  {
   "cell_type": "markdown",
   "metadata": {},
   "source": [
    "The following graphic shows the prediction based on Prophet's model.\n",
    "\n",
    "There are a blue area showing the actual data and the orange line is the forecast.\n",
    "\n",
    "The area without a blue fill is the forecast week."
   ]
  },
  {
   "cell_type": "code",
   "execution_count": 14,
   "metadata": {},
   "outputs": [
    {
     "data": {
      "text/plain": [
       "<matplotlib.legend.Legend at 0x7f60d91f2c50>"
      ]
     },
     "execution_count": 14,
     "metadata": {},
     "output_type": "execute_result"
    },
    {
     "data": {
      "image/png": "[encoded data removed]",
      "text/plain": [
       "<matplotlib.figure.Figure at 0x7f60d91f2d30>"
      ]
     },
     "metadata": {},
     "output_type": "display_data"
    }
   ],
   "source": [
    "plt.figure(figsize=[16,4])\n",
    "df_prophet['y'].plot(label=\"true\", kind=\"area\", alpha=0.3)\n",
    "predictions.plot(label=\"predicted\")\n",
    "\n",
    "plt.legend()"
   ]
  },
  {
   "cell_type": "markdown",
   "metadata": {},
   "source": [
    "These are the forecasted values for the new week:"
   ]
  },
  {
   "cell_type": "code",
   "execution_count": 15,
   "metadata": {},
   "outputs": [
    {
     "data": {
      "text/html": [
       "<div>\n",
       "<style scoped>\n",
       "    .dataframe tbody tr th:only-of-type {\n",
       "        vertical-align: middle;\n",
       "    }\n",
       "\n",
       "    .dataframe tbody tr th {\n",
       "        vertical-align: top;\n",
       "    }\n",
       "\n",
       "    .dataframe thead th {\n",
       "        text-align: right;\n",
       "    }\n",
       "</style>\n",
       "<table border=\"1\" class=\"dataframe\">\n",
       "  <thead>\n",
       "    <tr style=\"text-align: right;\">\n",
       "      <th></th>\n",
       "      <th>yhat</th>\n",
       "    </tr>\n",
       "  </thead>\n",
       "  <tbody>\n",
       "    <tr>\n",
       "      <th>19</th>\n",
       "      <td>555.140437</td>\n",
       "    </tr>\n",
       "    <tr>\n",
       "      <th>20</th>\n",
       "      <td>6532.447993</td>\n",
       "    </tr>\n",
       "    <tr>\n",
       "      <th>21</th>\n",
       "      <td>7298.618842</td>\n",
       "    </tr>\n",
       "    <tr>\n",
       "      <th>22</th>\n",
       "      <td>9358.756468</td>\n",
       "    </tr>\n",
       "    <tr>\n",
       "      <th>23</th>\n",
       "      <td>4967.902584</td>\n",
       "    </tr>\n",
       "    <tr>\n",
       "      <th>24</th>\n",
       "      <td>3690.802283</td>\n",
       "    </tr>\n",
       "    <tr>\n",
       "      <th>25</th>\n",
       "      <td>4299.644615</td>\n",
       "    </tr>\n",
       "  </tbody>\n",
       "</table>\n",
       "</div>"
      ],
      "text/plain": [
       "           yhat\n",
       "19   555.140437\n",
       "20  6532.447993\n",
       "21  7298.618842\n",
       "22  9358.756468\n",
       "23  4967.902584\n",
       "24  3690.802283\n",
       "25  4299.644615"
      ]
     },
     "execution_count": 15,
     "metadata": {},
     "output_type": "execute_result"
    }
   ],
   "source": [
    "pd.DataFrame(predictions).tail(7)"
   ]
  },
  {
   "cell_type": "markdown",
   "metadata": {},
   "source": [
    "**<< OBJECTIVE 3 DONE: Calculate a sales forecast for the next week. >>**"
   ]
  },
  {
   "cell_type": "markdown",
   "metadata": {},
   "source": [
    "**Objectives**\n",
    "\n",
    "1. ~~Get the records from a datafile containing transactions from a restaurant.~~\n",
    "2. ~~Study the data to find patterns on filds that can help to predict how much a customer will spend.~~\n",
    "3. ~~Calculate a sales forecast for the next week.~~\n",
    "\n",
    "\n",
    "**Evaluation criteria**\n",
    "\n",
    "1. ~~Ability to read/parse a dataset from a file.~~\n",
    "2. ~~Understanding of common business data.~~\n",
    "3. ~~Basic knowledge of artificial intelligence.~~\n",
    "4. ~~Ability to build a model to identify correlations and patterns between fields.~~\n",
    "5. ~~Code design~~\n",
    "6. ~~Ability to write clear documentation~~\n",
    "7. ~~BONUS: Ability to build a forecast model.~~\n",
    "\n",
    "## Final Considerations\n",
    "\n",
    "I've enjoyed a lot doing this exercise. With more time I would create a baseline model and some measurement method and then start to test different aproaches like Neural Nets, other regression libraries and algorithms.\n",
    "\n",
    "See you :D"
   ]
  }
 ],
 "metadata": {
  "kernelspec": {
   "display_name": "Python 3",
   "language": "python",
   "name": "python3"
  },
  "language_info": {
   "codemirror_mode": {
    "name": "ipython",
    "version": 3
   },
   "file_extension": ".py",
   "mimetype": "text/x-python",
   "name": "python",
   "nbconvert_exporter": "python",
   "pygments_lexer": "ipython3",
   "version": "3.6.4"
  }
 },
 "nbformat": 4,
 "nbformat_minor": 2
}
